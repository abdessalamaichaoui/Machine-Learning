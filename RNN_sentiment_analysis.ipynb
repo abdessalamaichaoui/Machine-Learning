{
  "cells": [
    {
      "cell_type": "markdown",
      "metadata": {
        "id": "GaPS7-5yQpnr"
      },
      "source": []
    },
    {
      "cell_type": "markdown",
      "metadata": {
        "id": "rLh6enTMQpnv"
      },
      "source": [
        "# MLA 703. RNN-LSTM et architectures avancées [Analyse de sentiment]"
      ]
    },
    {
      "cell_type": "code",
      "execution_count": null,
      "metadata": {
        "id": "lKhP-g9_Qpnw"
      },
      "outputs": [],
      "source": [
        "# Dans ce notebook, nous allons nous intéresser à des tâches d'analyse de sentiments\n",
        "# -> c'est à dire prédire un label de sentiment (ici positif ou négatif) à partir d'un texte\n",
        "\n",
        "# Ce notebook vise à approfondir :\n",
        "# - L'application du DL sur des données textuelles\n",
        "# - La compréhension des architectures RNN avancées comme les LSTM et les mécanismes d'attention\n",
        "#"
      ]
    },
    {
      "cell_type": "markdown",
      "metadata": {
        "id": "TdRR-74TQpny"
      },
      "source": [
        "# 1. Importation des modules"
      ]
    },
    {
      "cell_type": "code",
      "execution_count": null,
      "metadata": {
        "id": "Z4pgIkxKQpnz"
      },
      "outputs": [],
      "source": [
        "# On importe les librairies usuelless\n",
        "import math\n",
        "import numpy as np\n",
        "import matplotlib.pyplot as plt\n",
        "\n",
        "# On désactive les warnings\n",
        "import warnings\n",
        "warnings.filterwarnings('ignore')\n"
      ]
    },
    {
      "cell_type": "markdown",
      "metadata": {
        "id": "5vIUY1M1Qpnz"
      },
      "source": [
        "## 1. Charger les données"
      ]
    },
    {
      "cell_type": "markdown",
      "metadata": {
        "id": "JFySCjriQpn0"
      },
      "source": [
        "## 2. Formater/Préparer les données"
      ]
    },
    {
      "cell_type": "code",
      "execution_count": null,
      "metadata": {
        "id": "4M4qwon1Qpn0"
      },
      "outputs": [],
      "source": [
        "# On charge directement la base IMDB par les datasets de Keras\n",
        "# La méthode load_date possède pas mal d'options et de propriétés intéressantes (voir description) :\n",
        "# 1) Sépare les jeux d'entrainement et de test\n",
        "# 2) num_words : Top most frequent words to consider.\n",
        "# 3) skip_top : Top most frequent words to ignore (they will appear as oov_char value in the sequence data).\n",
        "# 4) maxlen : Maximum sequence length. Any longer sequence will be truncated.\n",
        "# 5) seed : Seed for reproducible data shuffling.\n",
        "# 6) start_char : The start of a sequence will be marked with this character. Set to 1 because 0 is usually the padding character.\n",
        "# 7) oov_char : words that were cut out because of the num_words or skip_top limit will be replaced with this character.\n",
        "# 8) index_from : Index actual words with this index and higher.\n",
        "\n",
        "from tensorflow.keras.datasets import imdb\n",
        "\n",
        "num_words = 5000\n",
        "max_len   =  100\n",
        "\n",
        "(x_train, y_train), (x_test, y_test) = imdb.load_data(num_words=num_words,\n",
        "                                                      maxlen=max_len)\n",
        ""
      ]
    },
    {
      "cell_type": "code",
      "execution_count": null,
      "metadata": {
        "id": "bLbIIHCEQpn1",
        "outputId": "9f919465-7425-4b35-c679-f948eee17554"
      },
      "outputs": [
        {
          "name": "stdout",
          "output_type": "stream",
          "text": [
            "Ensemble de données chargé avec 2773 échantillons d'apprentissage, 2963 de test\n"
          ]
        }
      ],
      "source": [
        "# Visualiser les dimension de la base d'apperrentissage et la base de test.\n",
        "print(f\"Ensemble de données chargé avec {len(x_train)} échantillons d'apprentissage, {len(x_test)} de test\")"
      ]
    },
    {
      "cell_type": "code",
      "execution_count": null,
      "metadata": {
        "id": "rorCgrdOQpn2"
      },
      "outputs": [],
      "source": [
        "# Mapping des commentaires sur des mots d'origine\n",
        "word2id = imdb.get_word_index()\n",
        "id2word = {i: word for word, i in word2id.items()}\n",
        "\n",
        "for seq, i in zip(x_train[:10], range(10)):\n",
        "    print('---review with words---')\n",
        "    print([id2word.get(i, ' ') for i in seq])\n",
        "    print('---label---')\n",
        "    print(y_train[i])"
      ]
    },
    {
      "cell_type": "code",
      "execution_count": null,
      "metadata": {
        "id": "DEc2V-RaQpn3",
        "outputId": "f305011d-5230-406f-af00-67d540a834b7"
      },
      "outputs": [
        {
          "name": "stdout",
          "output_type": "stream",
          "text": [
            "La phrase avant padding est : \n",
            " [1, 778, 128, 74, 12, 630, 163, 15, 4, 1766, 2, 1051, 2, 32, 85, 156, 45, 40, 148, 139, 121, 664, 665, 10, 10, 1361, 173, 4, 749, 2, 16, 3804, 8, 4, 226, 65, 12, 43, 127, 24, 2, 10, 10]\n",
            "La phrase paddée sur une longueur 100 est : \n",
            " [   0    0    0    0    0    0    0    0    0    0    0    0    0    0\n",
            "    0    0    0    0    0    0    0    0    0    0    0    0    0    0\n",
            "    0    0    0    0    0    0    0    0    0    0    0    0    0    0\n",
            "    0    0    0    0    0    0    0    0    0    0    0    0    0    0\n",
            "    0    1  778  128   74   12  630  163   15    4 1766    2 1051    2\n",
            "   32   85  156   45   40  148  139  121  664  665   10   10 1361  173\n",
            "    4  749    2   16 3804    8    4  226   65   12   43  127   24    2\n",
            "   10   10]\n",
            "2773\n"
          ]
        }
      ],
      "source": [
        "from tensorflow.keras.preprocessing.sequence import pad_sequences\n",
        "\n",
        "# On padde les séquences\n",
        "\n",
        "print(\"La phrase avant padding est : \\n {}\".format(x_train[0]))\n",
        "\n",
        "# On padde les séquence de mot\n",
        "max_len       = 100\n",
        "x_train       = pad_sequences(x_train, maxlen=max_len, truncating='post')\n",
        "x_test        = pad_sequences(x_test, maxlen=max_len, truncating='post')\n",
        "\n",
        "print(\"La phrase paddée sur une longueur {} est : \\n {}\". format(max_len, x_train[0]))\n",
        "\n",
        "print(len(x_train))"
      ]
    },
    {
      "cell_type": "code",
      "execution_count": null,
      "metadata": {
        "id": "Gt-_-qijQpn3",
        "outputId": "b05225a5-38dc-40a0-d0a3-92a0ebd42ce1"
      },
      "outputs": [
        {
          "name": "stdout",
          "output_type": "stream",
          "text": [
            "---review with words---\n",
            "[' ', ' ', ' ', ' ', ' ', ' ', ' ', ' ', ' ', ' ', ' ', ' ', ' ', ' ', ' ', ' ', ' ', ' ', ' ', ' ', ' ', ' ', ' ', ' ', ' ', ' ', ' ', ' ', ' ', ' ', ' ', ' ', ' ', ' ', ' ', ' ', ' ', ' ', ' ', ' ', ' ', ' ', ' ', ' ', ' ', ' ', ' ', ' ', ' ', ' ', ' ', ' ', ' ', ' ', ' ', ' ', ' ', 'the', 'effort', 'still', 'been', 'that', 'usually', 'makes', 'for', 'of', 'finished', 'and', 'ended', 'and', 'an', 'because', 'before', 'if', 'just', 'though', 'something', 'know', 'novel', 'female', 'i', 'i', 'slowly', 'lot', 'of', 'above', 'and', 'with', 'connect', 'in', 'of', 'script', 'their', 'that', 'out', 'end', 'his', 'and', 'i', 'i']\n",
            "---label---\n",
            "0\n"
          ]
        }
      ],
      "source": [
        "print('---review with words---')\n",
        "print([id2word.get(i, ' ') for i in x_train[0]])\n",
        "print('---label---')\n",
        "print(y_train[0])"
      ]
    },
    {
      "cell_type": "markdown",
      "metadata": {
        "id": "PrF1akqaQpn4"
      },
      "source": [
        "## 3. Déclaration du réseau"
      ]
    },
    {
      "cell_type": "markdown",
      "metadata": {
        "id": "R757b3hOQpn4"
      },
      "source": [
        "La tâche consiste à prédire la valence d'un texte à partir de son contenu.\n",
        "Pour ce faire nous allons créer une architecture many-to-one\n",
        "avec les réseaux RNNs\n",
        "Le problème consiste à implémenter et apprendre\n",
        "des réseaux avec - par exemple - les configurations suivantes :\n",
        "On va comparer les configurations suivantes :\n",
        "- Simple RNN avec dropout (avec un taux de 25% en sortie du RNN)\n",
        "- RNN-LSTM gauche-droite classique\n",
        "- LSTM bi-directionnel et return_sequences = False\n",
        "- Plusieurs couches au choix. On veillera en particulier\n",
        "  à la valeur des arguments return_sequences\n",
        "  \n",
        "Dans le rapport à faire directement dans le notebook, on prendra soin de :\n",
        "- reporter les losses sur les ensembles d'entrainement et de validation\n",
        "- mesurer l'accuracy sur l'ensemble de test\n",
        "On commentera les résultats obtenus en comparant les configurations\n",
        "Quelle est la configuration donnant la meilleure performance ?\n",
        "Pourquoi ?\n",
        "\n",
        "Aide : une couche LSTM bi-directionnelle est obtenue en appliquant sur la même couche une couche LSTM et une couche Bidirectional"
      ]
    },
    {
      "cell_type": "code",
      "execution_count": null,
      "metadata": {
        "id": "7f_5sdpWQpn4",
        "outputId": "18bdab79-d586-4d6c-deef-585df04e4809"
      },
      "outputs": [
        {
          "name": "stdout",
          "output_type": "stream",
          "text": [
            "Model: \"sequential_2\"\n",
            "_________________________________________________________________\n",
            " Layer (type)                Output Shape              Param #   \n",
            "=================================================================\n",
            " embedding_2 (Embedding)     (None, None, 128)         640000    \n",
            "                                                                 \n",
            " simple_rnn_2 (SimpleRNN)    (None, 64)                12352     \n",
            "                                                                 \n",
            " dropout_2 (Dropout)         (None, 64)                0         \n",
            "                                                                 \n",
            " dense_2 (Dense)             (None, 1)                 65        \n",
            "                                                                 \n",
            "=================================================================\n",
            "Total params: 652,417\n",
            "Trainable params: 652,417\n",
            "Non-trainable params: 0\n",
            "_________________________________________________________________\n"
          ]
        }
      ],
      "source": [
        "# On importe les librairies pour le RNN\n",
        "from tensorflow.keras.layers import Dense , Input , SimpleRNN, LSTM , Embedding, Dropout\n",
        "from tensorflow.keras.layers import Bidirectional, GlobalMaxPool1D\n",
        "from tensorflow.keras.models import Model, Sequential\n",
        "from tensorflow.keras.layers import Convolution1D\n",
        "#from tensorflow.keras import initializers, regularizers, constraints, optimizers, layers\n",
        "\n",
        "embed_size = 128                                                   # dimension de l'embedding\n",
        "RNN_size   = 64\n",
        "\n",
        "# Example d'architecture pour le réseau RNN simple avec dropout\n",
        "model = Sequential()\n",
        "model.add(Embedding(num_words, embed_size))                 # layer embedding\n",
        "model.add(SimpleRNN(RNN_size, return_sequences = False))    # layer RNN\n",
        "model.add(Dropout(0.25))                                    # layer Dropout\n",
        "model.add(Dense(1))                                         # layer Dense\n",
        "\n",
        "# On affiche l'architecture de notre modèle\n",
        "model.summary()\n",
        "\n",
        "# On spécifie la fonction de perte, l'optimiseur, et la fonction d'évaluation\n",
        "model.compile(loss='binary_crossentropy', optimizer='adam', metrics=['accuracy'])\n"
      ]
    },
    {
      "cell_type": "markdown",
      "metadata": {
        "id": "jpCNjB0_Qpn5"
      },
      "source": [
        "## 4. Entrainement du réseau"
      ]
    },
    {
      "cell_type": "code",
      "execution_count": null,
      "metadata": {
        "scrolled": true,
        "id": "yXS-3avOQpn5",
        "outputId": "12069c4c-f727-4330-e7ba-39ed218ee7b6"
      },
      "outputs": [
        {
          "name": "stdout",
          "output_type": "stream",
          "text": [
            "Epoch 1/10\n",
            "35/35 [==============================] - 2s 31ms/step - loss: 3.4976 - accuracy: 0.4761 - val_loss: 0.7921 - val_accuracy: 0.4468\n",
            "Epoch 2/10\n",
            "35/35 [==============================] - 1s 26ms/step - loss: 0.9444 - accuracy: 0.6240 - val_loss: 0.7884 - val_accuracy: 0.5153\n",
            "Epoch 3/10\n",
            "35/35 [==============================] - 1s 24ms/step - loss: 0.4620 - accuracy: 0.8097 - val_loss: 0.7995 - val_accuracy: 0.5081\n",
            "Epoch 4/10\n",
            "35/35 [==============================] - 1s 27ms/step - loss: 0.2796 - accuracy: 0.9098 - val_loss: 1.1776 - val_accuracy: 0.5261\n",
            "Epoch 5/10\n",
            "35/35 [==============================] - 1s 25ms/step - loss: 0.1107 - accuracy: 0.9748 - val_loss: 1.3606 - val_accuracy: 0.5333\n",
            "Epoch 6/10\n",
            "35/35 [==============================] - 1s 32ms/step - loss: 0.0474 - accuracy: 0.9950 - val_loss: 1.9717 - val_accuracy: 0.5171\n",
            "Epoch 7/10\n",
            "35/35 [==============================] - 1s 22ms/step - loss: 0.0262 - accuracy: 0.9991 - val_loss: 2.1273 - val_accuracy: 0.5189\n",
            "Epoch 8/10\n",
            "35/35 [==============================] - 1s 23ms/step - loss: 0.0218 - accuracy: 0.9986 - val_loss: 2.3848 - val_accuracy: 0.5189\n",
            "Epoch 9/10\n",
            "35/35 [==============================] - 1s 25ms/step - loss: 0.0194 - accuracy: 0.9986 - val_loss: 2.1694 - val_accuracy: 0.5099\n",
            "Epoch 10/10\n",
            "35/35 [==============================] - 1s 23ms/step - loss: 0.0175 - accuracy: 0.9991 - val_loss: 2.3694 - val_accuracy: 0.5189\n"
          ]
        }
      ],
      "source": [
        "# On entraine le réseau\n",
        "batch_size = 64                                                             # tailles des mini-batch\n",
        "epochs = 10                                                                 # nombre d'époques\n",
        "history = model.fit(x_train,y_train, batch_size=batch_size, epochs=epochs, validation_split=0.2) # on entraine"
      ]
    },
    {
      "cell_type": "code",
      "execution_count": null,
      "metadata": {
        "id": "n8HGvAAxQpn6",
        "outputId": "ec569603-2f4d-461c-f48c-d17c5dc5575b"
      },
      "outputs": [
        {
          "data": {
            "image/png": "[encoded data removed]",
            "text/plain": [
              "<Figure size 432x288 with 1 Axes>"
            ]
          },
          "metadata": {
            "needs_background": "light"
          },
          "output_type": "display_data"
        },
        {
          "data": {
            "image/png": "[encoded data removed]",
            "text/plain": [
              "<Figure size 432x288 with 1 Axes>"
            ]
          },
          "metadata": {
            "needs_background": "light"
          },
          "output_type": "display_data"
        }
      ],
      "source": [
        "# On trace la loss et l'accuracy du modèle\n",
        "# On trace l'évolution de l'accuracy\n",
        "plt.plot(history.history['accuracy'])\n",
        "plt.plot(history.history['val_accuracy'])\n",
        "plt.title('model accuracy')\n",
        "plt.ylabel('accuracy')\n",
        "plt.xlabel('epoch')\n",
        "plt.legend(['train', 'test'], loc='upper left')\n",
        "plt.show()\n",
        "\n",
        "# On trace l'évolution de la loss\n",
        "plt.plot(history.history['loss'])\n",
        "plt.plot(history.history['val_loss'])\n",
        "plt.title('model loss')\n",
        "plt.ylabel('loss')\n",
        "plt.xlabel('epoch')\n",
        "plt.legend(['train', 'test'], loc='upper left')\n",
        "plt.show()"
      ]
    },
    {
      "cell_type": "code",
      "execution_count": null,
      "metadata": {
        "id": "b6Kt7DNWQpn6"
      },
      "outputs": [],
      "source": [
        "history\n",
        "\n",
        "# On prédit sur l'ensemble de test\n",
        "\n",
        "# On prédit sur les données de test\n",
        "y_hat = model.predict(x_test)\n",
        "\n",
        "# On tranforme les prédictions en labels\n",
        "i_pos = [i for i in range(len(y_hat)) if y_hat[i]>0]\n",
        "i_neg = [i for i in range(len(y_hat)) if y_hat[i]<=0]\n",
        "\n",
        "y_pred   = np.zeros(len(y_hat))\n",
        "y_pred[i_pos] = 1\n",
        "y_pred[i_neg] = 0\n"
      ]
    },
    {
      "cell_type": "code",
      "execution_count": null,
      "metadata": {
        "id": "9gwxq2v9Qpn6",
        "outputId": "35d524fb-5f74-41c9-a275-ebdf848d2207"
      },
      "outputs": [
        {
          "name": "stdout",
          "output_type": "stream",
          "text": [
            "La matrice de confusion sur le jeu de test :\n",
            " [[ 135 1224]\n",
            " [ 102 1502]] \n",
            "\n",
            "L accuracy sur le jeu de test est :\n",
            " 0.5524805939925751\n"
          ]
        }
      ],
      "source": [
        "# On importe les librairies pour l'évaluation\n",
        "from sklearn.metrics import accuracy_score\n",
        "from sklearn.metrics import confusion_matrix\n",
        "\n",
        "# On calcule la matrice de confusion\n",
        "cm_test = confusion_matrix(y_test, y_pred)\n",
        "print('La matrice de confusion sur le jeu de test :\\n', cm_test, '\\n')\n",
        "\n",
        "# On calcul le score d accuracy\n",
        "acc_train=accuracy_score(y_test, y_pred)\n",
        "print('L accuracy sur le jeu de test est :\\n', acc_train)\n"
      ]
    },
    {
      "cell_type": "markdown",
      "metadata": {
        "id": "cxP2_SWtQpn7"
      },
      "source": [
        "# LSTM\n",
        "\n",
        "Nous allons commencer avec un RNN alimenté par LSTM.\n",
        "\n",
        "Pour exploiter la puissance de la cellule LSTM (la cellule LSTM et la couche LSTM sont souvent utilisées de manière interchangeable) dans TensorFlow, nous utiliserons `tensorflow.keras.layers.LSTM()`"
      ]
    },
    {
      "cell_type": "markdown",
      "metadata": {
        "id": "rF9K2_L2Qpn7"
      },
      "source": [
        "Notre modèle va prendre une structure très similaire à `model`:  \n",
        "\n",
        "\n",
        "`Input (text) -> Tokenize -> Embedding -> Layers -> Output (label probability)`  \n",
        "La principale différence sera que nous allons ajouter une couche LSTM entre notre intégration et notre sortie."
      ]
    },
    {
      "cell_type": "code",
      "execution_count": null,
      "metadata": {
        "id": "02jfWBZ4Qpn7"
      },
      "outputs": [],
      "source": [
        "def plot_history(history):\n",
        "    # On trace l'évolution de l'accuracy\n",
        "    plt.plot(history.history['accuracy'])\n",
        "    plt.plot(history.history['val_accuracy'])\n",
        "    plt.title('model accuracy')\n",
        "    plt.ylabel('accuracy')\n",
        "    plt.xlabel('epoch')\n",
        "    plt.legend(['train', 'test'], loc='upper left')\n",
        "    plt.show()\n",
        "\n",
        "    # On trace l'évolution de la loss\n",
        "    plt.plot(history.history['loss'])\n",
        "    plt.plot(history.history['val_loss'])\n",
        "    plt.title('model loss')\n",
        "    plt.ylabel('loss')\n",
        "    plt.xlabel('epoch')\n",
        "    plt.legend(['train', 'test'], loc='upper left')\n",
        "    plt.show()"
      ]
    },
    {
      "cell_type": "code",
      "execution_count": null,
      "metadata": {
        "id": "ytvpVCahQpn7",
        "outputId": "b88d7515-55a9-46bf-b5ca-cd625df19728"
      },
      "outputs": [
        {
          "name": "stdout",
          "output_type": "stream",
          "text": [
            "Model: \"sequential_14\"\n",
            "_________________________________________________________________\n",
            " Layer (type)                Output Shape              Param #   \n",
            "=================================================================\n",
            " embedding_model1_LMST (Embe  (None, 100, 128)         640000    \n",
            " dding)                                                          \n",
            "                                                                 \n",
            " lstm_11 (LSTM)              (None, 64)                49408     \n",
            "                                                                 \n",
            " dense_14 (Dense)            (None, 10)                650       \n",
            "                                                                 \n",
            " dense_15 (Dense)            (None, 1)                 11        \n",
            "                                                                 \n",
            "=================================================================\n",
            "Total params: 690,069\n",
            "Trainable params: 690,069\n",
            "Non-trainable params: 0\n",
            "_________________________________________________________________\n"
          ]
        }
      ],
      "source": [
        "# Set random seed and create embedding layer (new embedding layer for each model)\n",
        "import tensorflow as tf\n",
        "from tensorflow.keras.layers import Embedding, LSTM\n",
        "tf.random.set_seed(42)\n",
        "\n",
        "num_words = 5000\n",
        "embed_size = 128\n",
        "max_len = 100\n",
        "LMST_size = 64\n",
        "\n",
        "# Example d'architecture pour le réseau LSTM avec dropout\n",
        "model1_LMST = Sequential()\n",
        "model1_LMST.add(Embedding(  input_dim=num_words,   # 5000\n",
        "                            output_dim=embed_size, # 128\n",
        "                            embeddings_initializer=\"uniform\",\n",
        "                            input_length=max_len,  # 100\n",
        "                            name=\"embedding_model1_LMST\"    ))    # layer embedding\n",
        "model1_LMST.add(LSTM(   units = LMST_size,\n",
        "                        activation='tanh',\n",
        "                        recurrent_activation='sigmoid',\n",
        "                        return_sequences=False,\n",
        "                        return_state=False,\n",
        "                        stateful=False  ))    # layer LMST\n",
        "\n",
        "#model1_LMST.add(Dropout(0.25))  # layer Dropout\n",
        "model1_LMST.add(Dense(10, activation=\"relu\"))  # layer Dense\n",
        "#model1_LMST.add(Dropout(0.25))  # layer Dropout\n",
        "model1_LMST.add(Dense(1, activation=\"sigmoid\"))  # layer Dense\n",
        "\n",
        "# On affiche l'architecture de notre modèle\n",
        "model1_LMST.summary()\n",
        "\n",
        "# On spécifie la fonction de perte, l'optimiseur, et la fonction d'évaluation\n",
        "model1_LMST.compile(loss='binary_crossentropy', optimizer='adam', metrics=['accuracy'])\n"
      ]
    },
    {
      "cell_type": "code",
      "execution_count": null,
      "metadata": {
        "id": "jjxozKubQpn8",
        "outputId": "29f79520-9e11-49a2-b886-917d3dd5d96d"
      },
      "outputs": [
        {
          "name": "stdout",
          "output_type": "stream",
          "text": [
            "Epoch 1/10\n",
            "35/35 [==============================] - 5s 71ms/step - loss: 0.6714 - accuracy: 0.6005 - val_loss: 0.6040 - val_accuracy: 0.7658\n",
            "Epoch 2/10\n",
            "35/35 [==============================] - 2s 72ms/step - loss: 0.4070 - accuracy: 0.8530 - val_loss: 0.3398 - val_accuracy: 0.8450\n",
            "Epoch 3/10\n",
            "35/35 [==============================] - 2s 64ms/step - loss: 0.1647 - accuracy: 0.9418 - val_loss: 0.3235 - val_accuracy: 0.8486\n",
            "Epoch 4/10\n",
            "35/35 [==============================] - 2s 64ms/step - loss: 0.0815 - accuracy: 0.9797 - val_loss: 0.3632 - val_accuracy: 0.8577\n",
            "Epoch 5/10\n",
            "35/35 [==============================] - 2s 61ms/step - loss: 0.0369 - accuracy: 0.9919 - val_loss: 0.5250 - val_accuracy: 0.8432\n",
            "Epoch 6/10\n",
            "35/35 [==============================] - 2s 60ms/step - loss: 0.0625 - accuracy: 0.9797 - val_loss: 0.4207 - val_accuracy: 0.8432\n",
            "Epoch 7/10\n",
            "35/35 [==============================] - 2s 59ms/step - loss: 0.0245 - accuracy: 0.9941 - val_loss: 0.5046 - val_accuracy: 0.8396\n",
            "Epoch 8/10\n",
            "35/35 [==============================] - 2s 62ms/step - loss: 0.0101 - accuracy: 0.9986 - val_loss: 0.6033 - val_accuracy: 0.8396\n",
            "Epoch 9/10\n",
            "35/35 [==============================] - 2s 68ms/step - loss: 0.0064 - accuracy: 0.9991 - val_loss: 0.7044 - val_accuracy: 0.8432\n",
            "Epoch 10/10\n",
            "35/35 [==============================] - 2s 65ms/step - loss: 0.0019 - accuracy: 0.9995 - val_loss: 0.7135 - val_accuracy: 0.8396\n"
          ]
        }
      ],
      "source": [
        "# On entraine le réseau\n",
        "batch_size = 64         # tailles des mini-batch\n",
        "epochs = 10             # nombre d'époques\n",
        "history_model1_LMST = model1_LMST.fit(  x_train,\n",
        "                                        y_train,\n",
        "                                        batch_size=batch_size,\n",
        "                                        epochs=epochs,\n",
        "                                        validation_split=0.2) # on entraine"
      ]
    },
    {
      "cell_type": "code",
      "execution_count": null,
      "metadata": {
        "id": "ZyIGEm7mQpn8",
        "outputId": "f7346459-4b4c-4d9d-982a-1533c2c017ee"
      },
      "outputs": [
        {
          "data": {
            "image/png": "[encoded data removed]",
            "text/plain": [
              "<Figure size 432x288 with 1 Axes>"
            ]
          },
          "metadata": {
            "needs_background": "light"
          },
          "output_type": "display_data"
        },
        {
          "data": {
            "image/png": "[encoded data removed]",
            "text/plain": [
              "<Figure size 432x288 with 1 Axes>"
            ]
          },
          "metadata": {
            "needs_background": "light"
          },
          "output_type": "display_data"
        }
      ],
      "source": [
        "plot_history(history_model1_LMST)"
      ]
    },
    {
      "cell_type": "code",
      "execution_count": null,
      "metadata": {
        "id": "eRIgJXjzQpn8",
        "outputId": "7698d2d8-ed3b-4364-ca1b-e3802018b389"
      },
      "outputs": [
        {
          "name": "stdout",
          "output_type": "stream",
          "text": [
            "Model: \"sequential_19\"\n",
            "_________________________________________________________________\n",
            " Layer (type)                Output Shape              Param #   \n",
            "=================================================================\n",
            " embedding_model1_LMST (Embe  (None, 100, 128)         640000    \n",
            " dding)                                                          \n",
            "                                                                 \n",
            " bidirectional_7 (Bidirectio  (None, 100, 128)         98816     \n",
            " nal)                                                            \n",
            "                                                                 \n",
            " bidirectional_8 (Bidirectio  (None, 128)              98816     \n",
            " nal)                                                            \n",
            "                                                                 \n",
            " dense_23 (Dense)            (None, 2)                 258       \n",
            "                                                                 \n",
            " dropout_15 (Dropout)        (None, 2)                 0         \n",
            "                                                                 \n",
            " dense_24 (Dense)            (None, 2)                 6         \n",
            "                                                                 \n",
            " dropout_16 (Dropout)        (None, 2)                 0         \n",
            "                                                                 \n",
            " dense_25 (Dense)            (None, 1)                 3         \n",
            "                                                                 \n",
            "=================================================================\n",
            "Total params: 837,899\n",
            "Trainable params: 837,899\n",
            "Non-trainable params: 0\n",
            "_________________________________________________________________\n"
          ]
        }
      ],
      "source": [
        "# # Example d'architecture pour le réseau LSTM avec dropout\n",
        "# model2_LMST = Sequential()\n",
        "# model2_LMST.add(Embedding(  input_dim=num_words,   # 5000\n",
        "#                             output_dim=embed_size, # 128\n",
        "#                             embeddings_initializer=\"uniform\",\n",
        "#                             input_length=max_len,  # 100\n",
        "#                             name=\"embedding_model1_LMST\"    ))    # layer embedding\n",
        "\n",
        "# model2_LMST.add(Bidirectional(LSTM( units = LMST_size,\n",
        "#                                     return_sequences=True)))    # layer LMST\n",
        "# model2_LMST.add(Bidirectional(LSTM( units = LMST_size,\n",
        "#                                     return_sequences=False)))\n",
        "# model2_LMST.add(Dense(64, activation=\"relu\"))  # layer Dense\n",
        "# model2_LMST.add(Dropout(0.5))\n",
        "# model2_LMST.add(Dense(1, activation=\"sigmoid\"))  # layer Dense\n",
        "\n",
        "\n",
        "# # On affiche l'architecture de notre modèle\n",
        "# model2_LMST.summary()\n",
        "# # On spécifie la fonction de perte, l'optimiseur, et la fonction d'évaluation\n",
        "# model2_LMST.compile(loss='binary_crossentropy', optimizer='adam', metrics=['accuracy'])\n",
        "\n",
        "\n",
        "\n",
        "# Example d'architecture pour le réseau LSTM avec dropout\n",
        "model2_LMST = Sequential()\n",
        "model2_LMST.add(Embedding(  input_dim=num_words,   # 5000\n",
        "                            output_dim=embed_size, # 128\n",
        "                            embeddings_initializer=\"uniform\",\n",
        "                            input_length=max_len,  # 100\n",
        "                            name=\"embedding_model1_LMST\"    ))    # layer embedding\n",
        "\n",
        "model2_LMST.add(Bidirectional(LSTM( units = LMST_size,\n",
        "                                    return_sequences=True)))    # layer LMST\n",
        "model2_LMST.add(Bidirectional(LSTM( units = LMST_size,\n",
        "                                    return_sequences=False)))\n",
        "model2_LMST.add(Dense(2, activation=\"relu\"))  # layer Dense\n",
        "model2_LMST.add(Dropout(0.5))\n",
        "model2_LMST.add(Dense(2, activation=\"relu\"))  # layer Dense\n",
        "model2_LMST.add(Dropout(0.5))\n",
        "model2_LMST.add(Dense(1, activation=\"sigmoid\"))  # layer Dense\n",
        "\n",
        "\n",
        "# On affiche l'architecture de notre modèle\n",
        "model2_LMST.summary()\n",
        "# On spécifie la fonction de perte, l'optimiseur, et la fonction d'évaluation\n",
        "model2_LMST.compile(loss='binary_crossentropy', optimizer='adam', metrics=['accuracy'])"
      ]
    },
    {
      "cell_type": "code",
      "execution_count": null,
      "metadata": {
        "id": "D3CKTSZUQpn9",
        "outputId": "d31ec3cc-97c3-43bf-cdf7-f1e845b06637"
      },
      "outputs": [
        {
          "name": "stdout",
          "output_type": "stream",
          "text": [
            "Epoch 1/10\n",
            "35/35 [==============================] - 11s 187ms/step - loss: 0.6929 - accuracy: 0.5293 - val_loss: 0.6921 - val_accuracy: 0.5676\n",
            "Epoch 2/10\n",
            "35/35 [==============================] - 7s 188ms/step - loss: 0.6920 - accuracy: 0.5509 - val_loss: 0.6909 - val_accuracy: 0.5676\n",
            "Epoch 3/10\n",
            "35/35 [==============================] - 9s 251ms/step - loss: 0.6911 - accuracy: 0.5509 - val_loss: 0.6900 - val_accuracy: 0.5676\n",
            "Epoch 4/10\n",
            "35/35 [==============================] - 11s 307ms/step - loss: 0.6905 - accuracy: 0.5509 - val_loss: 0.6890 - val_accuracy: 0.5676\n",
            "Epoch 5/10\n",
            "35/35 [==============================] - 8s 233ms/step - loss: 0.6899 - accuracy: 0.5509 - val_loss: 0.6884 - val_accuracy: 0.5676\n",
            "Epoch 6/10\n",
            "35/35 [==============================] - 10s 288ms/step - loss: 0.6896 - accuracy: 0.5509 - val_loss: 0.6876 - val_accuracy: 0.5676\n",
            "Epoch 7/10\n",
            "35/35 [==============================] - 8s 230ms/step - loss: 0.6892 - accuracy: 0.5509 - val_loss: 0.6871 - val_accuracy: 0.5676\n",
            "Epoch 8/10\n",
            "35/35 [==============================] - 10s 281ms/step - loss: 0.6889 - accuracy: 0.5509 - val_loss: 0.6868 - val_accuracy: 0.5676\n",
            "Epoch 9/10\n",
            "35/35 [==============================] - 8s 235ms/step - loss: 0.6887 - accuracy: 0.5509 - val_loss: 0.6864 - val_accuracy: 0.5676\n",
            "Epoch 10/10\n",
            "35/35 [==============================] - 10s 284ms/step - loss: 0.6885 - accuracy: 0.5509 - val_loss: 0.6861 - val_accuracy: 0.5676\n"
          ]
        }
      ],
      "source": [
        "# On entraine le réseau\n",
        "batch_size = 64         # tailles des mini-batch\n",
        "epochs = 10             # nombre d'époques\n",
        "history_model2_LMST = model2_LMST.fit(  x_train,\n",
        "                                        y_train,\n",
        "                                        batch_size=batch_size,\n",
        "                                        epochs=epochs,\n",
        "                                        validation_split=0.2) # on entraine"
      ]
    },
    {
      "cell_type": "code",
      "execution_count": null,
      "metadata": {
        "id": "NdK4pRxiQpn9",
        "outputId": "82b2778a-99a6-4f43-a5aa-e69560739268"
      },
      "outputs": [
        {
          "data": {
            "image/png": "[encoded data removed]",
            "text/plain": [
              "<Figure size 432x288 with 1 Axes>"
            ]
          },
          "metadata": {
            "needs_background": "light"
          },
          "output_type": "display_data"
        },
        {
          "data": {
            "image/png": "[encoded data removed]",
            "text/plain": [
              "<Figure size 432x288 with 1 Axes>"
            ]
          },
          "metadata": {
            "needs_background": "light"
          },
          "output_type": "display_data"
        }
      ],
      "source": [
        "plot_history(history_model2_LMST)"
      ]
    },
    {
      "cell_type": "code",
      "execution_count": null,
      "metadata": {
        "id": "5ZtVugxuQpn-"
      },
      "outputs": [],
      "source": []
    },
    {
      "cell_type": "markdown",
      "metadata": {
        "id": "YJuJSX2-Qpn-"
      },
      "source": [
        "# Sérieursement"
      ]
    },
    {
      "cell_type": "code",
      "execution_count": null,
      "metadata": {
        "id": "rVYw_XGuQpn-"
      },
      "outputs": [],
      "source": [
        "import tensorflow as tf\n",
        "from tensorflow.keras import datasets, layers, models, preprocessing\n",
        "import tensorflow_datasets as tfds\n",
        "\n",
        "def build_model():\n",
        "    model = models.Sequential()\n",
        "    # Input: - eEmbedding Layer.\n",
        "    # The model will take as input an integer matrix of size (batch,     # input_length).\n",
        "    # The model will output dimension (input_length, dim_embedding).\n",
        "    # The largest integer in the input should be no larger\n",
        "    # than n_words (vocabulary size).\n",
        "    model.add(layers.Embedding(n_words,\n",
        "    dim_embedding, input_length=max_len))\n",
        "    model.add(layers.Dropout(0.3))\n",
        "    # Takes the maximum value of either feature vector from each of     # the n_words features.\n",
        "    model.add(layers.GlobalMaxPooling1D())\n",
        "    model.add(layers.Dense(128, activation='relu'))\n",
        "    model.add(layers.Dropout(0.5))\n",
        "    model.add(layers.Dense(1, activation='sigmoid'))\n",
        "    return model"
      ]
    }
  ],
  "metadata": {
    "kernelspec": {
      "display_name": "Python 3.9.7 ('base')",
      "language": "python",
      "name": "python3"
    },
    "language_info": {
      "codemirror_mode": {
        "name": "ipython",
        "version": 3
      },
      "file_extension": ".py",
      "mimetype": "text/x-python",
      "name": "python",
      "nbconvert_exporter": "python",
      "pygments_lexer": "ipython3",
      "version": "3.9.7"
    },
    "vscode": {
      "interpreter": {
        "hash": "f43ea83be3efa71f272f111399653028d46bef4df135a6fdb6525a542d7969a3"
      }
    },
    "colab": {
      "provenance": []
    }
  },
  "nbformat": 4,
  "nbformat_minor": 0
}